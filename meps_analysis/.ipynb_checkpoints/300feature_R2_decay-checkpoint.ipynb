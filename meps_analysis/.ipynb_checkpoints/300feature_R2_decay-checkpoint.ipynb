{
 "cells": [
  {
   "cell_type": "markdown",
   "metadata": {
    "collapsed": true
   },
   "source": [
    "Load some libraries"
   ]
  },
  {
   "cell_type": "code",
   "execution_count": null,
   "metadata": {
    "collapsed": true
   },
   "outputs": [],
   "source": [
    "import pandas as pd\n",
    "import numpy.linalg as lg\n",
    "import matplotlib.pyplot as plt\n",
    "from datetime import datetime\n",
    "import numpy as np\n",
    "import matplotlib as mpl\n",
    "from sklearn.feature_selection import RFE\n",
    "from sklearn.linear_model import LinearRegression\n",
    "from sklearn.cross_validation import cross_val_predict\n",
    "from sklearn import linear_model"
   ]
  },
  {
   "cell_type": "code",
   "execution_count": null,
   "metadata": {
    "collapsed": true
   },
   "outputs": [],
   "source": [
    "#takes in data X and actual Y, returns rss and R^2 values\n",
    "def computing_stat(X, Y):\n",
    "    lr = LinearRegression()\n",
    "    lr.fit(X, Y)\n",
    "    return np.mean((lr.predict(X) - Y) ** 2), lr.score(X, Y)\n",
    "\n",
    "#return least sig feature\n",
    "def remove_one_feature(X, Y, names):\n",
    "    lr = LinearRegression()\n",
    "    rfe = RFE(lr, n_features_to_select=1)\n",
    "    rfe.fit(X,Y)\n",
    "    rank = (sorted(zip(map(lambda x: round(x, 4), rfe.ranking_), names)))\n",
    "    return rank[-1][1]"
   ]
  },
  {
   "cell_type": "code",
   "execution_count": null,
   "metadata": {
    "collapsed": false
   },
   "outputs": [],
   "source": [
    "data = pd.read_csv(\"DATA PATH\")"
   ]
  },
  {
   "cell_type": "code",
   "execution_count": null,
   "metadata": {
    "collapsed": true
   },
   "outputs": [],
   "source": [
    "#training Y\n",
    "Y = data.logCost"
   ]
  },
  {
   "cell_type": "code",
   "execution_count": null,
   "metadata": {
    "collapsed": true
   },
   "outputs": [],
   "source": [
    "#convert data frame to array data structure\n",
    "array = data.values"
   ]
  },
  {
   "cell_type": "code",
   "execution_count": null,
   "metadata": {
    "collapsed": false
   },
   "outputs": [],
   "source": [
    "#training X by excluding the Y value from data\n",
    "X = array[:,0:-1]"
   ]
  },
  {
   "cell_type": "code",
   "execution_count": null,
   "metadata": {
    "collapsed": false
   },
   "outputs": [],
   "source": [
    "X.shape"
   ]
  },
  {
   "cell_type": "code",
   "execution_count": null,
   "metadata": {
    "collapsed": true
   },
   "outputs": [],
   "source": [
    "total_feature = 298\n",
    "drop_feature = []\n",
    "num_feature = []\n",
    "r2 = []\n",
    "rss = []\n",
    "feature = []\n",
    "#rank all the feature, drop the lowest, and compute rss and r^2\n",
    "for i in range(total_feature-5):\n",
    "    array = training.values\n",
    "    Y = array[:,-1]\n",
    "    X = array[:, 0:-2]\n",
    "    names = training.columns\n",
    "    rss_temp, r2_temp = computing_stat(X, Y)\n",
    "    rss.append(rss_temp)\n",
    "    r2.append(r2_temp)\n",
    "    num_feature.append(total_feature-i)\n",
    "    drop = remove_one_feature(X, Y, names)\n",
    "    drop_feature.append(drop)\n",
    "    training = training.drop(drop, axis=1)"
   ]
  },
  {
   "cell_type": "code",
   "execution_count": null,
   "metadata": {
    "collapsed": false
   },
   "outputs": [],
   "source": [
    "plt.plot(num_feature, r2)\n",
    "plt.xlabel('Number of Feature')\n",
    "plt.ylabel('R-squared value')\n",
    "plt.show()"
   ]
  },
  {
   "cell_type": "code",
   "execution_count": null,
   "metadata": {
    "collapsed": true
   },
   "outputs": [],
   "source": [
    "plt.plot(num_feature, rss)\n",
    "plt.xlabel('Number of Feature')\n",
    "plt.ylabel('Residual Sum of Squares (RSS)')\n",
    "plt.show()"
   ]
  }
 ],
 "metadata": {
  "kernelspec": {
   "display_name": "Python 3",
   "language": "python",
   "name": "python3"
  },
  "language_info": {
   "codemirror_mode": {
    "name": "ipython",
    "version": 3
   },
   "file_extension": ".py",
   "mimetype": "text/x-python",
   "name": "python",
   "nbconvert_exporter": "python",
   "pygments_lexer": "ipython3",
   "version": "3.5.1"
  }
 },
 "nbformat": 4,
 "nbformat_minor": 0
}
